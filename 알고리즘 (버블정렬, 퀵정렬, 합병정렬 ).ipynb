{
 "cells": [
  {
   "cell_type": "code",
   "execution_count": 14,
   "id": "bafe4406",
   "metadata": {},
   "outputs": [
    {
     "name": "stdout",
     "output_type": "stream",
     "text": [
      "[1, 2, 3, 4, 5, 6, 7, 8, 9]\n"
     ]
    }
   ],
   "source": [
    "#버블정렬\n",
    "\n",
    "def bubble_sort(arr):\n",
    "    n=len(arr)\n",
    "    for i in range(n-1):\n",
    "        for j in range(n-i-1):\n",
    "            if arr[j]>arr[j+1]:\n",
    "                arr[j],arr[j+1]=arr[j+1],arr[j]\n",
    "    return arr\n",
    "\n",
    "arr=[7,5,6,4,3,9,8,1,2]\n",
    "print(bubble_sort(arr))\n"
   ]
  },
  {
   "cell_type": "code",
   "execution_count": 15,
   "id": "a643210b",
   "metadata": {},
   "outputs": [
    {
     "name": "stdout",
     "output_type": "stream",
     "text": [
      "[1, 2, 3, 4, 5, 6, 7, 8, 9]\n"
     ]
    }
   ],
   "source": [
    "#퀵정렬\n",
    "\n",
    "def quick_sort(arr):\n",
    "    if len(arr) <= 1: #이게 종료 조건\n",
    "        return arr\n",
    "    pivot=arr[0] #첫번째 원소를 피벗으로 선택하기\n",
    "    small_pivot = [x for x in arr[1:] if x <=pivot]\n",
    "    big_pivot= [x for x in arr[1:] if x > pivot]\n",
    "    return quick_sort(small_pivot)+[pivot]+quick_sort(big_pivot)\n",
    "\n",
    "arr=[9,5,7,8,4,6,1,3,2]\n",
    "print(quick_sort(arr))\n"
   ]
  },
  {
   "cell_type": "code",
   "execution_count": 18,
   "id": "ae38142c",
   "metadata": {},
   "outputs": [
    {
     "name": "stdout",
     "output_type": "stream",
     "text": [
      "[7, 5, 6, 4, 3, 9, 8, 1, 2]\n",
      "[1, 2, 3, 4, 5, 6, 7, 8, 9]\n"
     ]
    }
   ],
   "source": [
    "#합병 정렬\n",
    "\n",
    "my_list=[7,5,6,4,3,9,8,1,2]\n",
    " \n",
    "def MergeSort(my_list):\n",
    "    if len(my_list)<=1:  #한 개 뿐인 리스트는 그냥 반환\n",
    "        return my_list\n",
    "    \n",
    "    mid=len(my_list)//2   #반으로 나눔(왼쪽리스트, 오른쪽 리스트)\n",
    "    left=MergeSort(my_list[:mid])\n",
    "    right=MergeSort(my_list[mid:])  \n",
    " \n",
    "    return Merge(left, right)\n",
    " \n",
    "def Merge(left, right):\n",
    " \n",
    "    split_list=[]\n",
    "    i,j=0,0\n",
    "    \n",
    "    while( i<len(left)) and (j<len(right)): #왼, 오 리스트 비교\n",
    "        if left[i]<right[j]:\n",
    "            split_list.append(left[i])\n",
    "            i+=1\n",
    "        else:\n",
    "            split_list.append(right[j])\n",
    "            j+=1\n",
    "    \n",
    "    if i<len(left): \n",
    "        split_list+=left[i:] #왼 합쳐\n",
    "    if j<len(right): \n",
    "        split_list+=right[j:] #오른 합쳐\n",
    "    return split_list\n",
    " \n",
    "print(my_list)\n",
    "print(MergeSort(my_list))\n"
   ]
  },
  {
   "cell_type": "code",
   "execution_count": 28,
   "id": "8431959b",
   "metadata": {},
   "outputs": [
    {
     "name": "stdout",
     "output_type": "stream",
     "text": [
      "Bubble Sort Time: 0.175699 seconds\n",
      "Quick Sort Time: 0.004998 seconds\n",
      "Merge Sort Time: 0.007999 seconds\n"
     ]
    }
   ],
   "source": [
    "#정렬 실행시간 측정\n",
    "\n",
    "import time\n",
    "import random\n",
    "\n",
    "# 버블 정렬\n",
    "def bubble_sort(arr):\n",
    "    n = len(arr)\n",
    "    for i in range(n-1):\n",
    "        for j in range(n-i-1):\n",
    "            if arr[j] > arr[j+1]:\n",
    "                arr[j], arr[j+1] = arr[j+1], arr[j]\n",
    "    return arr\n",
    "\n",
    "# 퀵 정렬\n",
    "def quick_sort(arr):\n",
    "    if len(arr) <= 1:\n",
    "        return arr\n",
    "    pivot = arr[0]\n",
    "    small_pivot = [x for x in arr[1:] if x <= pivot]\n",
    "    big_pivot = [x for x in arr[1:] if x > pivot]\n",
    "    return quick_sort(small_pivot) + [pivot] + quick_sort(big_pivot)\n",
    "\n",
    "# 합병 정렬\n",
    "def MergeSort(my_list):\n",
    "    if len(my_list) <= 1:\n",
    "        return my_list\n",
    "    \n",
    "    mid = len(my_list) // 2\n",
    "    left = MergeSort(my_list[:mid])\n",
    "    right = MergeSort(my_list[mid:])\n",
    "    \n",
    "    return Merge(left, right)\n",
    "\n",
    "def Merge(left, right):\n",
    "    split_list = []\n",
    "    i, j = 0, 0\n",
    "    while i < len(left) and j < len(right):\n",
    "        if left[i] < right[j]:\n",
    "            split_list.append(left[i])\n",
    "            i += 1\n",
    "        else:\n",
    "            split_list.append(right[j])\n",
    "            j += 1\n",
    "    if i < len(left):\n",
    "        split_list += left[i:]\n",
    "    if j < len(right):\n",
    "        split_list += right[j:]\n",
    "    return split_list\n",
    "\n",
    "# 정렬 실행 시간 측정\n",
    "def measure_time(sort_func, arr):\n",
    "    start_time = time.time()  \n",
    "    sort_func(arr.copy())  \n",
    "    end_time = time.time()  \n",
    "    return end_time - start_time  \n",
    "\n",
    "# 배열\n",
    "arr_size = 1000\n",
    "arr1 = [random.randint(0,arr_size) for _ in range(arr_size)] #randint-두 숫자 사이의 정수를 무작위로 반환\n",
    "arr2 = arr1.copy()\n",
    "arr3 = arr1.copy()\n",
    "\n",
    "# 시간 측정\n",
    "bubble_time = measure_time(bubble_sort, arr1)\n",
    "quick_time = measure_time(quick_sort, arr2)\n",
    "merge_time = measure_time(MergeSort, arr3)\n",
    "\n",
    "\n",
    "print(f\"Bubble Sort Time: {bubble_time:.6f} seconds\")\n",
    "print(f\"Quick Sort Time: {quick_time:.6f} seconds\")\n",
    "print(f\"Merge Sort Time: {merge_time:.6f} seconds\")\n",
    "\n"
   ]
  },
  {
   "cell_type": "code",
   "execution_count": null,
   "id": "2f9261f9",
   "metadata": {},
   "outputs": [],
   "source": []
  }
 ],
 "metadata": {
  "kernelspec": {
   "display_name": "Python 3 (ipykernel)",
   "language": "python",
   "name": "python3"
  },
  "language_info": {
   "codemirror_mode": {
    "name": "ipython",
    "version": 3
   },
   "file_extension": ".py",
   "mimetype": "text/x-python",
   "name": "python",
   "nbconvert_exporter": "python",
   "pygments_lexer": "ipython3",
   "version": "3.9.7"
  }
 },
 "nbformat": 4,
 "nbformat_minor": 5
}
