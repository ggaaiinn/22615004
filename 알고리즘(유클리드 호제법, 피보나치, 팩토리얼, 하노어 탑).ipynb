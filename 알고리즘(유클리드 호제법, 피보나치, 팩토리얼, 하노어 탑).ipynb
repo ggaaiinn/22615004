{
 "cells": [
  {
   "cell_type": "code",
   "execution_count": 31,
   "id": "802f1f57",
   "metadata": {},
   "outputs": [
    {
     "name": "stdout",
     "output_type": "stream",
     "text": [
      "첫번째 값을 입력하시오:18\n",
      "두번째 값을 입력하시오:24\n",
      "a와 b의 최대 공양수: 6\n"
     ]
    }
   ],
   "source": [
    "#유클리드 호제법\n",
    "\n",
    "a=int(input(\"첫번째 값을 입력하시오:\"))\n",
    "b=int(input(\"두번째 값을 입력하시오:\"))\n",
    "\n",
    "def Euclid(a,b):\n",
    "    if b==0:\n",
    "        return a\n",
    "    else:\n",
    "        return Euclid(b, a%b)\n",
    "    \n",
    "print(\"a와 b의 최대 공양수:\", Euclid(a,b))"
   ]
  },
  {
   "cell_type": "code",
   "execution_count": null,
   "id": "d20e1823",
   "metadata": {},
   "outputs": [],
   "source": [
    "#팩토리얼 반복문\n",
    "\n",
    "n=int(input(\"n의 값을 입력하라 : \"));\n",
    "\n",
    "def factorial(n):\n",
    "    result = 1\n",
    "    for i in range(2, n+1):\n",
    "        result *= i\n",
    "    return result\n",
    "\n",
    "print(factorial(n));"
   ]
  },
  {
   "cell_type": "code",
   "execution_count": 27,
   "id": "bd8ec8c0",
   "metadata": {},
   "outputs": [
    {
     "name": "stdout",
     "output_type": "stream",
     "text": [
      "n의 값을 입력하라 : 5\n",
      "120\n"
     ]
    }
   ],
   "source": [
    "#팩토리얼 재귀함수\n",
    "\n",
    "n=int(input(\"n의 값을 입력하라 : \"))\n",
    "def factorial(n):\n",
    "    if n == 1:    \n",
    "        return 1    \n",
    "    return n * factorial(n - 1)    \n",
    "\n",
    "print(factorial(n));"
   ]
  },
  {
   "cell_type": "code",
   "execution_count": 13,
   "id": "838b1449",
   "metadata": {},
   "outputs": [
    {
     "name": "stdout",
     "output_type": "stream",
     "text": [
      "<피보나치 반복문>\n",
      "계산항을 입력하라 : 5\n",
      "1 1 2 3 5 \n"
     ]
    }
   ],
   "source": [
    "#피보나치 반복문\n",
    "\n",
    "a,b=1,1\n",
    "n=int(input(\"계산항을 입력하라 : \"))\n",
    "\n",
    "for i in range(n):\n",
    "    print(a,end=\" \")\n",
    "    a,b=b,a+b\n",
    "\n",
    "    \n",
    "print();\n",
    "\n"
   ]
  },
  {
   "cell_type": "code",
   "execution_count": 26,
   "id": "330fcc00",
   "metadata": {},
   "outputs": [
    {
     "name": "stdout",
     "output_type": "stream",
     "text": [
      "계산항을 입력하라 :6\n",
      "8\n"
     ]
    }
   ],
   "source": [
    "#피보나치 재귀함수\n",
    "\n",
    "n=int(input(\"계산항을 입력하라 : \"))\n",
    "      \n",
    "def fibonacci(n):\n",
    "    if n <= 1:\n",
    "      return n\n",
    "    else:\n",
    "      return fibonacci(n-1)+fibonacci(n-2)\n",
    "\n",
    "      \n",
    "print(fibonacci(n));\n",
    "\n",
    "      "
   ]
  },
  {
   "cell_type": "code",
   "execution_count": 5,
   "id": "8c6a5bc8",
   "metadata": {},
   "outputs": [
    {
     "name": "stdout",
     "output_type": "stream",
     "text": [
      "하노어 탑\n",
      "원판의 개수를 입력하세요 : 5\n",
      "기둥은 순서대로 A, B, C이다.\n",
      "A -> C\n",
      "A -> B\n",
      "C -> B\n",
      "A -> C\n",
      "B -> A\n",
      "B -> C\n",
      "A -> C\n",
      "A -> B\n",
      "C -> B\n",
      "C -> A\n",
      "B -> A\n",
      "C -> B\n",
      "A -> C\n",
      "A -> B\n",
      "C -> B\n",
      "A -> C\n",
      "B -> A\n",
      "B -> C\n",
      "A -> C\n",
      "B -> A\n",
      "C -> B\n",
      "C -> A\n",
      "B -> A\n",
      "B -> C\n",
      "A -> C\n",
      "A -> B\n",
      "C -> B\n",
      "A -> C\n",
      "B -> A\n",
      "B -> C\n",
      "A -> C\n"
     ]
    }
   ],
   "source": [
    "#하노어 탑\n",
    "\n",
    "def hanoi(N, a, b, c):\n",
    "\n",
    "    if N == 1:\n",
    "        print(f\"{a} -> {c}\")\n",
    "    else:\n",
    "        hanoi(N-1, a, c, b)\n",
    "        print(f\"{a} -> {c}\")\n",
    "        hanoi(N-1, b, a, c)\n",
    "\n",
    "def main():\n",
    "    N = int(input(\"원판의 개수를 입력하라 : \"))\n",
    "    print(\"기둥은 순서대로 A, B, C이다..\")\n",
    "    \n",
    "    if N > 0:\n",
    "        hanoi(N, \"A\", \"B\", \"C\")\n",
    "    else:\n",
    "        print(\"Unacceptable value\")\n",
    "\n",
    "if __name__ == \"__main__\":\n",
    "    main()\n",
    "    \n",
    "    \n",
    "\n"
   ]
  },
  {
   "cell_type": "code",
   "execution_count": null,
   "id": "e4ed8ad6",
   "metadata": {},
   "outputs": [],
   "source": [
    "재귀함수는 함수가 호출될 때마다 스택 메모리에 쌓여 각 호출마다 새로운 함수 호출이 메모리에 저장됨. \n",
    "종료 조건에 도달하면 그제서야 역순으로 값을 반환한다.\n",
    "반복문은 메모리에 추가적인 함수 호출을 쌓지 않기 때문에 메모리 효율이 더 좋다."
   ]
  }
 ],
 "metadata": {
  "kernelspec": {
   "display_name": "Python 3 (ipykernel)",
   "language": "python",
   "name": "python3"
  },
  "language_info": {
   "codemirror_mode": {
    "name": "ipython",
    "version": 3
   },
   "file_extension": ".py",
   "mimetype": "text/x-python",
   "name": "python",
   "nbconvert_exporter": "python",
   "pygments_lexer": "ipython3",
   "version": "3.9.7"
  }
 },
 "nbformat": 4,
 "nbformat_minor": 5
}
